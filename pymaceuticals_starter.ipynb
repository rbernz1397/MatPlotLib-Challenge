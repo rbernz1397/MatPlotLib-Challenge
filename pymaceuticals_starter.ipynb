{
 "cells": [
  {
   "attachments": {},
   "cell_type": "markdown",
   "metadata": {},
   "source": [
    "# Pymaceuticals Inc.\n",
    "---\n",
    "\n",
    "### Analysis\n",
    "\n",
    "- Add your analysis here.\n",
    " "
   ]
  },
  {
   "cell_type": "code",
   "execution_count": 26,
   "metadata": {},
   "outputs": [
    {
     "data": {
      "text/html": [
       "<div>\n",
       "<style scoped>\n",
       "    .dataframe tbody tr th:only-of-type {\n",
       "        vertical-align: middle;\n",
       "    }\n",
       "\n",
       "    .dataframe tbody tr th {\n",
       "        vertical-align: top;\n",
       "    }\n",
       "\n",
       "    .dataframe thead th {\n",
       "        text-align: right;\n",
       "    }\n",
       "</style>\n",
       "<table border=\"1\" class=\"dataframe\">\n",
       "  <thead>\n",
       "    <tr style=\"text-align: right;\">\n",
       "      <th></th>\n",
       "      <th>Mouse ID</th>\n",
       "      <th>Timepoint</th>\n",
       "      <th>Tumor Volume (mm3)</th>\n",
       "      <th>Metastatic Sites</th>\n",
       "      <th>Drug Regimen</th>\n",
       "      <th>Sex</th>\n",
       "      <th>Age_months</th>\n",
       "      <th>Weight (g)</th>\n",
       "    </tr>\n",
       "  </thead>\n",
       "  <tbody>\n",
       "    <tr>\n",
       "      <th>0</th>\n",
       "      <td>b128</td>\n",
       "      <td>0</td>\n",
       "      <td>45.0</td>\n",
       "      <td>0</td>\n",
       "      <td>Capomulin</td>\n",
       "      <td>Female</td>\n",
       "      <td>9</td>\n",
       "      <td>22</td>\n",
       "    </tr>\n",
       "    <tr>\n",
       "      <th>1</th>\n",
       "      <td>f932</td>\n",
       "      <td>0</td>\n",
       "      <td>45.0</td>\n",
       "      <td>0</td>\n",
       "      <td>Ketapril</td>\n",
       "      <td>Male</td>\n",
       "      <td>15</td>\n",
       "      <td>29</td>\n",
       "    </tr>\n",
       "    <tr>\n",
       "      <th>2</th>\n",
       "      <td>g107</td>\n",
       "      <td>0</td>\n",
       "      <td>45.0</td>\n",
       "      <td>0</td>\n",
       "      <td>Ketapril</td>\n",
       "      <td>Female</td>\n",
       "      <td>2</td>\n",
       "      <td>29</td>\n",
       "    </tr>\n",
       "    <tr>\n",
       "      <th>3</th>\n",
       "      <td>a457</td>\n",
       "      <td>0</td>\n",
       "      <td>45.0</td>\n",
       "      <td>0</td>\n",
       "      <td>Ketapril</td>\n",
       "      <td>Female</td>\n",
       "      <td>11</td>\n",
       "      <td>30</td>\n",
       "    </tr>\n",
       "    <tr>\n",
       "      <th>4</th>\n",
       "      <td>c819</td>\n",
       "      <td>0</td>\n",
       "      <td>45.0</td>\n",
       "      <td>0</td>\n",
       "      <td>Ketapril</td>\n",
       "      <td>Male</td>\n",
       "      <td>21</td>\n",
       "      <td>25</td>\n",
       "    </tr>\n",
       "  </tbody>\n",
       "</table>\n",
       "</div>"
      ],
      "text/plain": [
       "  Mouse ID  Timepoint  Tumor Volume (mm3)  Metastatic Sites Drug Regimen  \\\n",
       "0     b128          0                45.0                 0    Capomulin   \n",
       "1     f932          0                45.0                 0     Ketapril   \n",
       "2     g107          0                45.0                 0     Ketapril   \n",
       "3     a457          0                45.0                 0     Ketapril   \n",
       "4     c819          0                45.0                 0     Ketapril   \n",
       "\n",
       "      Sex  Age_months  Weight (g)  \n",
       "0  Female           9          22  \n",
       "1    Male          15          29  \n",
       "2  Female           2          29  \n",
       "3  Female          11          30  \n",
       "4    Male          21          25  "
      ]
     },
     "execution_count": 26,
     "metadata": {},
     "output_type": "execute_result"
    }
   ],
   "source": [
    "# Dependencies and Setup\n",
    "import matplotlib.pyplot as plt\n",
    "import pandas as pd\n",
    "import scipy.stats as st\n",
    "\n",
    "# Study data files\n",
    "mouse_metadata_path = \"/Users/rachelbernz/Desktop/OSU Classwork/Module 5/Module 5 Challenge/Pymaceuticals/data/Mouse_metadata.csv\"\n",
    "study_results_path = \"/Users/rachelbernz/Desktop/OSU Classwork/Module 5/Module 5 Challenge/Pymaceuticals/data/Study_results.csv\"\n",
    "\n",
    "# Read the mouse data and the study results\n",
    "mouse_metadata = pd.read_csv(mouse_metadata_path)\n",
    "study_results = pd.read_csv(study_results_path)\n",
    "\n",
    "# Combine the data into a single DataFrame\n",
    "total_data = pd.merge(study_results, mouse_metadata, how = 'left', on = \"Mouse ID\")\n",
    "# Display the data table for preview\n",
    "total_data.head()"
   ]
  },
  {
   "cell_type": "code",
   "execution_count": 27,
   "metadata": {},
   "outputs": [
    {
     "data": {
      "text/plain": [
       "249"
      ]
     },
     "execution_count": 27,
     "metadata": {},
     "output_type": "execute_result"
    }
   ],
   "source": [
    "# Checking the number of mice.\n",
    "mice = total_data['Mouse ID'].unique()\n",
    "total_mice = len(mice)\n",
    "total_mice"
   ]
  },
  {
   "cell_type": "code",
   "execution_count": 28,
   "metadata": {},
   "outputs": [
    {
     "data": {
      "text/plain": [
       "array(['g989'], dtype=object)"
      ]
     },
     "execution_count": 28,
     "metadata": {},
     "output_type": "execute_result"
    }
   ],
   "source": [
    "# Our data should be uniquely identified by Mouse ID and Timepoint\n",
    "# Get the duplicate mice by ID number that shows up for Mouse ID and Timepoint. \n",
    "mice_duplicates = total_data[total_data[['Mouse ID', 'Timepoint']].duplicated() == True]\n",
    "mice_IDs = mice_duplicates['Mouse ID'].unique()\n",
    "mice_IDs"
   ]
  },
  {
   "cell_type": "code",
   "execution_count": 29,
   "metadata": {},
   "outputs": [],
   "source": [
    "# Optional: Get all the data for the duplicate mouse ID. \n"
   ]
  },
  {
   "cell_type": "code",
   "execution_count": 30,
   "metadata": {},
   "outputs": [
    {
     "data": {
      "text/html": [
       "<div>\n",
       "<style scoped>\n",
       "    .dataframe tbody tr th:only-of-type {\n",
       "        vertical-align: middle;\n",
       "    }\n",
       "\n",
       "    .dataframe tbody tr th {\n",
       "        vertical-align: top;\n",
       "    }\n",
       "\n",
       "    .dataframe thead th {\n",
       "        text-align: right;\n",
       "    }\n",
       "</style>\n",
       "<table border=\"1\" class=\"dataframe\">\n",
       "  <thead>\n",
       "    <tr style=\"text-align: right;\">\n",
       "      <th></th>\n",
       "      <th>Mouse ID</th>\n",
       "      <th>Timepoint</th>\n",
       "      <th>Tumor Volume (mm3)</th>\n",
       "      <th>Metastatic Sites</th>\n",
       "      <th>Drug Regimen</th>\n",
       "      <th>Sex</th>\n",
       "      <th>Age_months</th>\n",
       "      <th>Weight (g)</th>\n",
       "    </tr>\n",
       "  </thead>\n",
       "  <tbody>\n",
       "    <tr>\n",
       "      <th>0</th>\n",
       "      <td>b128</td>\n",
       "      <td>0</td>\n",
       "      <td>45.0</td>\n",
       "      <td>0</td>\n",
       "      <td>Capomulin</td>\n",
       "      <td>Female</td>\n",
       "      <td>9</td>\n",
       "      <td>22</td>\n",
       "    </tr>\n",
       "    <tr>\n",
       "      <th>1</th>\n",
       "      <td>f932</td>\n",
       "      <td>0</td>\n",
       "      <td>45.0</td>\n",
       "      <td>0</td>\n",
       "      <td>Ketapril</td>\n",
       "      <td>Male</td>\n",
       "      <td>15</td>\n",
       "      <td>29</td>\n",
       "    </tr>\n",
       "    <tr>\n",
       "      <th>2</th>\n",
       "      <td>g107</td>\n",
       "      <td>0</td>\n",
       "      <td>45.0</td>\n",
       "      <td>0</td>\n",
       "      <td>Ketapril</td>\n",
       "      <td>Female</td>\n",
       "      <td>2</td>\n",
       "      <td>29</td>\n",
       "    </tr>\n",
       "    <tr>\n",
       "      <th>3</th>\n",
       "      <td>a457</td>\n",
       "      <td>0</td>\n",
       "      <td>45.0</td>\n",
       "      <td>0</td>\n",
       "      <td>Ketapril</td>\n",
       "      <td>Female</td>\n",
       "      <td>11</td>\n",
       "      <td>30</td>\n",
       "    </tr>\n",
       "    <tr>\n",
       "      <th>4</th>\n",
       "      <td>c819</td>\n",
       "      <td>0</td>\n",
       "      <td>45.0</td>\n",
       "      <td>0</td>\n",
       "      <td>Ketapril</td>\n",
       "      <td>Male</td>\n",
       "      <td>21</td>\n",
       "      <td>25</td>\n",
       "    </tr>\n",
       "  </tbody>\n",
       "</table>\n",
       "</div>"
      ],
      "text/plain": [
       "  Mouse ID  Timepoint  Tumor Volume (mm3)  Metastatic Sites Drug Regimen  \\\n",
       "0     b128          0                45.0                 0    Capomulin   \n",
       "1     f932          0                45.0                 0     Ketapril   \n",
       "2     g107          0                45.0                 0     Ketapril   \n",
       "3     a457          0                45.0                 0     Ketapril   \n",
       "4     c819          0                45.0                 0     Ketapril   \n",
       "\n",
       "      Sex  Age_months  Weight (g)  \n",
       "0  Female           9          22  \n",
       "1    Male          15          29  \n",
       "2  Female           2          29  \n",
       "3  Female          11          30  \n",
       "4    Male          21          25  "
      ]
     },
     "execution_count": 30,
     "metadata": {},
     "output_type": "execute_result"
    }
   ],
   "source": [
    "# Create a clean DataFrame by dropping the duplicate mouse by its ID.\n",
    "clean_total = total_data.drop_duplicates(subset = ['Mouse ID', 'Timepoint'])\n",
    "clean_total.head()"
   ]
  },
  {
   "cell_type": "code",
   "execution_count": 31,
   "metadata": {},
   "outputs": [
    {
     "data": {
      "text/plain": [
       "249"
      ]
     },
     "execution_count": 31,
     "metadata": {},
     "output_type": "execute_result"
    }
   ],
   "source": [
    "# Checking the number of mice in the clean DataFrame.\n",
    "mice_total_clean = len(clean_total['Mouse ID'].unique())\n",
    "mice_total_clean"
   ]
  },
  {
   "cell_type": "markdown",
   "metadata": {},
   "source": [
    "## Summary Statistics"
   ]
  },
  {
   "cell_type": "code",
   "execution_count": 32,
   "metadata": {},
   "outputs": [
    {
     "data": {
      "text/html": [
       "<div>\n",
       "<style scoped>\n",
       "    .dataframe tbody tr th:only-of-type {\n",
       "        vertical-align: middle;\n",
       "    }\n",
       "\n",
       "    .dataframe tbody tr th {\n",
       "        vertical-align: top;\n",
       "    }\n",
       "\n",
       "    .dataframe thead th {\n",
       "        text-align: right;\n",
       "    }\n",
       "</style>\n",
       "<table border=\"1\" class=\"dataframe\">\n",
       "  <thead>\n",
       "    <tr style=\"text-align: right;\">\n",
       "      <th></th>\n",
       "      <th>Mean Tumor Volume</th>\n",
       "      <th>Median Tumor Volume</th>\n",
       "      <th>Tumor Volume Variance</th>\n",
       "      <th>Tumor Volume Standard Deviation</th>\n",
       "      <th>Tumor Volume Standard Error</th>\n",
       "    </tr>\n",
       "    <tr>\n",
       "      <th>Drug Regimen</th>\n",
       "      <th></th>\n",
       "      <th></th>\n",
       "      <th></th>\n",
       "      <th></th>\n",
       "      <th></th>\n",
       "    </tr>\n",
       "  </thead>\n",
       "  <tbody>\n",
       "    <tr>\n",
       "      <th>Capomulin</th>\n",
       "      <td>40.675741</td>\n",
       "      <td>41.557809</td>\n",
       "      <td>24.947764</td>\n",
       "      <td>4.994774</td>\n",
       "      <td>0.329346</td>\n",
       "    </tr>\n",
       "    <tr>\n",
       "      <th>Ceftamin</th>\n",
       "      <td>52.591172</td>\n",
       "      <td>51.776157</td>\n",
       "      <td>39.290177</td>\n",
       "      <td>6.268188</td>\n",
       "      <td>0.469821</td>\n",
       "    </tr>\n",
       "    <tr>\n",
       "      <th>Infubinol</th>\n",
       "      <td>52.884795</td>\n",
       "      <td>51.820584</td>\n",
       "      <td>43.128684</td>\n",
       "      <td>6.567243</td>\n",
       "      <td>0.492236</td>\n",
       "    </tr>\n",
       "    <tr>\n",
       "      <th>Ketapril</th>\n",
       "      <td>55.235638</td>\n",
       "      <td>53.698743</td>\n",
       "      <td>68.553577</td>\n",
       "      <td>8.279709</td>\n",
       "      <td>0.603860</td>\n",
       "    </tr>\n",
       "    <tr>\n",
       "      <th>Naftisol</th>\n",
       "      <td>54.331565</td>\n",
       "      <td>52.509285</td>\n",
       "      <td>66.173479</td>\n",
       "      <td>8.134708</td>\n",
       "      <td>0.596466</td>\n",
       "    </tr>\n",
       "    <tr>\n",
       "      <th>Placebo</th>\n",
       "      <td>54.033581</td>\n",
       "      <td>52.288934</td>\n",
       "      <td>61.168083</td>\n",
       "      <td>7.821003</td>\n",
       "      <td>0.581331</td>\n",
       "    </tr>\n",
       "    <tr>\n",
       "      <th>Propriva</th>\n",
       "      <td>52.393463</td>\n",
       "      <td>50.909965</td>\n",
       "      <td>43.138803</td>\n",
       "      <td>6.568014</td>\n",
       "      <td>0.525862</td>\n",
       "    </tr>\n",
       "    <tr>\n",
       "      <th>Ramicane</th>\n",
       "      <td>40.216745</td>\n",
       "      <td>40.673236</td>\n",
       "      <td>23.486704</td>\n",
       "      <td>4.846308</td>\n",
       "      <td>0.320955</td>\n",
       "    </tr>\n",
       "    <tr>\n",
       "      <th>Stelasyn</th>\n",
       "      <td>54.233149</td>\n",
       "      <td>52.431737</td>\n",
       "      <td>59.450562</td>\n",
       "      <td>7.710419</td>\n",
       "      <td>0.573111</td>\n",
       "    </tr>\n",
       "    <tr>\n",
       "      <th>Zoniferol</th>\n",
       "      <td>53.236507</td>\n",
       "      <td>51.818479</td>\n",
       "      <td>48.533355</td>\n",
       "      <td>6.966589</td>\n",
       "      <td>0.516398</td>\n",
       "    </tr>\n",
       "  </tbody>\n",
       "</table>\n",
       "</div>"
      ],
      "text/plain": [
       "              Mean Tumor Volume  Median Tumor Volume  Tumor Volume Variance  \\\n",
       "Drug Regimen                                                                  \n",
       "Capomulin             40.675741            41.557809              24.947764   \n",
       "Ceftamin              52.591172            51.776157              39.290177   \n",
       "Infubinol             52.884795            51.820584              43.128684   \n",
       "Ketapril              55.235638            53.698743              68.553577   \n",
       "Naftisol              54.331565            52.509285              66.173479   \n",
       "Placebo               54.033581            52.288934              61.168083   \n",
       "Propriva              52.393463            50.909965              43.138803   \n",
       "Ramicane              40.216745            40.673236              23.486704   \n",
       "Stelasyn              54.233149            52.431737              59.450562   \n",
       "Zoniferol             53.236507            51.818479              48.533355   \n",
       "\n",
       "              Tumor Volume Standard Deviation  Tumor Volume Standard Error  \n",
       "Drug Regimen                                                                \n",
       "Capomulin                            4.994774                     0.329346  \n",
       "Ceftamin                             6.268188                     0.469821  \n",
       "Infubinol                            6.567243                     0.492236  \n",
       "Ketapril                             8.279709                     0.603860  \n",
       "Naftisol                             8.134708                     0.596466  \n",
       "Placebo                              7.821003                     0.581331  \n",
       "Propriva                             6.568014                     0.525862  \n",
       "Ramicane                             4.846308                     0.320955  \n",
       "Stelasyn                             7.710419                     0.573111  \n",
       "Zoniferol                            6.966589                     0.516398  "
      ]
     },
     "execution_count": 32,
     "metadata": {},
     "output_type": "execute_result"
    }
   ],
   "source": [
    "# Generate a summary statistics table of mean, median, variance, standard deviation, and SEM of the tumor volume for each regimen\n",
    "\n",
    "# Use groupby and summary statistical methods to calculate the following properties of each drug regimen: \n",
    "# mean, median, variance, standard deviation, and SEM of the tumor volume. \n",
    "\n",
    "drug_regimen_data = clean_total.set_index(['Drug Regimen'])\n",
    "grouped_drug_data = drug_regimen_data.groupby('Drug Regimen')\n",
    "\n",
    "drug_regimen_mean = grouped_drug_data['Tumor Volume (mm3)'].mean()\n",
    "drug_regimen_median = grouped_drug_data['Tumor Volume (mm3)'].median()\n",
    "drug_regimen_var = grouped_drug_data['Tumor Volume (mm3)'].var()\n",
    "drug_regimen_std = grouped_drug_data['Tumor Volume (mm3)'].std()\n",
    "drug_regimen_sem = grouped_drug_data['Tumor Volume (mm3)'].sem()\n",
    "\n",
    "# Assemble the resulting series into a single summary DataFrame.\n",
    "drug_regimen_summary_df = pd.DataFrame({'Mean Tumor Volume': drug_regimen_mean,\n",
    "                                        'Median Tumor Volume': drug_regimen_median,\n",
    "                                        'Tumor Volume Variance': drug_regimen_var,\n",
    "                                        'Tumor Volume Standard Deviation': drug_regimen_std,\n",
    "                                        'Tumor Volume Standard Error': drug_regimen_sem})\n",
    "drug_regimen_summary_df"
   ]
  },
  {
   "cell_type": "code",
   "execution_count": 33,
   "metadata": {},
   "outputs": [
    {
     "data": {
      "text/html": [
       "<div>\n",
       "<style scoped>\n",
       "    .dataframe tbody tr th:only-of-type {\n",
       "        vertical-align: middle;\n",
       "    }\n",
       "\n",
       "    .dataframe tbody tr th {\n",
       "        vertical-align: top;\n",
       "    }\n",
       "\n",
       "    .dataframe thead tr th {\n",
       "        text-align: left;\n",
       "    }\n",
       "\n",
       "    .dataframe thead tr:last-of-type th {\n",
       "        text-align: right;\n",
       "    }\n",
       "</style>\n",
       "<table border=\"1\" class=\"dataframe\">\n",
       "  <thead>\n",
       "    <tr>\n",
       "      <th></th>\n",
       "      <th colspan=\"5\" halign=\"left\">Tumor Volume (mm3)</th>\n",
       "    </tr>\n",
       "    <tr>\n",
       "      <th></th>\n",
       "      <th>mean</th>\n",
       "      <th>median</th>\n",
       "      <th>var</th>\n",
       "      <th>std</th>\n",
       "      <th>sem</th>\n",
       "    </tr>\n",
       "    <tr>\n",
       "      <th>Drug Regimen</th>\n",
       "      <th></th>\n",
       "      <th></th>\n",
       "      <th></th>\n",
       "      <th></th>\n",
       "      <th></th>\n",
       "    </tr>\n",
       "  </thead>\n",
       "  <tbody>\n",
       "    <tr>\n",
       "      <th>Capomulin</th>\n",
       "      <td>40.675741</td>\n",
       "      <td>41.557809</td>\n",
       "      <td>24.947764</td>\n",
       "      <td>4.994774</td>\n",
       "      <td>0.329346</td>\n",
       "    </tr>\n",
       "    <tr>\n",
       "      <th>Ceftamin</th>\n",
       "      <td>52.591172</td>\n",
       "      <td>51.776157</td>\n",
       "      <td>39.290177</td>\n",
       "      <td>6.268188</td>\n",
       "      <td>0.469821</td>\n",
       "    </tr>\n",
       "    <tr>\n",
       "      <th>Infubinol</th>\n",
       "      <td>52.884795</td>\n",
       "      <td>51.820584</td>\n",
       "      <td>43.128684</td>\n",
       "      <td>6.567243</td>\n",
       "      <td>0.492236</td>\n",
       "    </tr>\n",
       "    <tr>\n",
       "      <th>Ketapril</th>\n",
       "      <td>55.235638</td>\n",
       "      <td>53.698743</td>\n",
       "      <td>68.553577</td>\n",
       "      <td>8.279709</td>\n",
       "      <td>0.603860</td>\n",
       "    </tr>\n",
       "    <tr>\n",
       "      <th>Naftisol</th>\n",
       "      <td>54.331565</td>\n",
       "      <td>52.509285</td>\n",
       "      <td>66.173479</td>\n",
       "      <td>8.134708</td>\n",
       "      <td>0.596466</td>\n",
       "    </tr>\n",
       "    <tr>\n",
       "      <th>Placebo</th>\n",
       "      <td>54.033581</td>\n",
       "      <td>52.288934</td>\n",
       "      <td>61.168083</td>\n",
       "      <td>7.821003</td>\n",
       "      <td>0.581331</td>\n",
       "    </tr>\n",
       "    <tr>\n",
       "      <th>Propriva</th>\n",
       "      <td>52.393463</td>\n",
       "      <td>50.909965</td>\n",
       "      <td>43.138803</td>\n",
       "      <td>6.568014</td>\n",
       "      <td>0.525862</td>\n",
       "    </tr>\n",
       "    <tr>\n",
       "      <th>Ramicane</th>\n",
       "      <td>40.216745</td>\n",
       "      <td>40.673236</td>\n",
       "      <td>23.486704</td>\n",
       "      <td>4.846308</td>\n",
       "      <td>0.320955</td>\n",
       "    </tr>\n",
       "    <tr>\n",
       "      <th>Stelasyn</th>\n",
       "      <td>54.233149</td>\n",
       "      <td>52.431737</td>\n",
       "      <td>59.450562</td>\n",
       "      <td>7.710419</td>\n",
       "      <td>0.573111</td>\n",
       "    </tr>\n",
       "    <tr>\n",
       "      <th>Zoniferol</th>\n",
       "      <td>53.236507</td>\n",
       "      <td>51.818479</td>\n",
       "      <td>48.533355</td>\n",
       "      <td>6.966589</td>\n",
       "      <td>0.516398</td>\n",
       "    </tr>\n",
       "  </tbody>\n",
       "</table>\n",
       "</div>"
      ],
      "text/plain": [
       "             Tumor Volume (mm3)                                          \n",
       "                           mean     median        var       std       sem\n",
       "Drug Regimen                                                             \n",
       "Capomulin             40.675741  41.557809  24.947764  4.994774  0.329346\n",
       "Ceftamin              52.591172  51.776157  39.290177  6.268188  0.469821\n",
       "Infubinol             52.884795  51.820584  43.128684  6.567243  0.492236\n",
       "Ketapril              55.235638  53.698743  68.553577  8.279709  0.603860\n",
       "Naftisol              54.331565  52.509285  66.173479  8.134708  0.596466\n",
       "Placebo               54.033581  52.288934  61.168083  7.821003  0.581331\n",
       "Propriva              52.393463  50.909965  43.138803  6.568014  0.525862\n",
       "Ramicane              40.216745  40.673236  23.486704  4.846308  0.320955\n",
       "Stelasyn              54.233149  52.431737  59.450562  7.710419  0.573111\n",
       "Zoniferol             53.236507  51.818479  48.533355  6.966589  0.516398"
      ]
     },
     "execution_count": 33,
     "metadata": {},
     "output_type": "execute_result"
    }
   ],
   "source": [
    "# A more advanced method to generate a summary statistics table of mean, median, variance, standard deviation,\n",
    "# and SEM of the tumor volume for each regimen (only one method is required in the solution)\n",
    "\n",
    "# Using the aggregation method, produce the same summary statistics in a single line\n",
    "agg_drug_summary_df = drug_regimen_data.groupby(['Drug Regimen'])[['Tumor Volume (mm3)']].agg(['mean', 'median', 'var', 'std', 'sem'])\n",
    "agg_drug_summary_df"
   ]
  },
  {
   "cell_type": "markdown",
   "metadata": {},
   "source": [
    "## Bar and Pie Charts"
   ]
  },
  {
   "cell_type": "code",
   "execution_count": 34,
   "metadata": {},
   "outputs": [
    {
     "data": {
      "text/plain": [
       "<function matplotlib.pyplot.show(close=None, block=None)>"
      ]
     },
     "execution_count": 34,
     "metadata": {},
     "output_type": "execute_result"
    },
    {
     "data": {
      "image/png": "[encoded data removed]",
      "text/plain": [
       "<Figure size 640x480 with 1 Axes>"
      ]
     },
     "metadata": {},
     "output_type": "display_data"
    }
   ],
   "source": [
    "# Generate a bar plot showing the total number of rows (Mouse ID/Timepoints) for each drug regimen using Pandas.\n",
    "mice_drugs = clean_total[['Drug Regimen', 'Timepoint']]\n",
    "mice_per_drug = mice_drugs['Drug Regimen'].value_counts()\n",
    "mice_per_drug\n",
    "\n",
    "mice_per_drug.plot(kind=\"bar\",color = \"b\",\n",
    "                  xlabel=\"Drug Regimen\",\n",
    "                  ylabel=\"Number of Mice Tested\")\n",
    "plt.show"
   ]
  },
  {
   "cell_type": "code",
   "execution_count": 35,
   "metadata": {},
   "outputs": [
    {
     "data": {
      "image/png": "[encoded data removed]",
      "text/plain": [
       "<Figure size 640x480 with 1 Axes>"
      ]
     },
     "metadata": {},
     "output_type": "display_data"
    }
   ],
   "source": [
    "# Generate a bar plot showing the total number of rows (Mouse ID/Timepoints) for each drug regimen using pyplot.\n",
    "drugs = mice_per_drug.index.values\n",
    "count = mice_per_drug.values\n",
    "\n",
    "plt.bar(drugs, count, color = 'b')\n",
    "plt.xlabel('Drug Regimen')\n",
    "plt.ylabel('Number of Mice Tested')\n",
    "plt.xticks(rotation = 90)\n",
    "plt.show()"
   ]
  },
  {
   "cell_type": "code",
   "execution_count": 36,
   "metadata": {},
   "outputs": [
    {
     "data": {
      "text/plain": [
       "<function matplotlib.pyplot.show(close=None, block=None)>"
      ]
     },
     "execution_count": 36,
     "metadata": {},
     "output_type": "execute_result"
    },
    {
     "data": {
      "image/png": "[encoded data removed]",
      "text/plain": [
       "<Figure size 640x480 with 1 Axes>"
      ]
     },
     "metadata": {},
     "output_type": "display_data"
    }
   ],
   "source": [
    "# Generate a pie plot showing the distribution of female versus male mice using Pandas\n",
    "female_v_male = clean_total['Sex'].value_counts()\n",
    "sex = ['Female', 'Male']\n",
    "fig, ax = plt.subplots()\n",
    "ax.pie(female_v_male, autopct='%1.0f%%', labels = sex)\n",
    "ax.set_ylabel('Sex')\n",
    "plt.show"
   ]
  },
  {
   "cell_type": "code",
   "execution_count": 37,
   "metadata": {},
   "outputs": [
    {
     "data": {
      "text/plain": [
       "Text(0, 0.5, 'Sex')"
      ]
     },
     "execution_count": 37,
     "metadata": {},
     "output_type": "execute_result"
    },
    {
     "data": {
      "image/png": "[encoded data removed]",
      "text/plain": [
       "<Figure size 640x480 with 1 Axes>"
      ]
     },
     "metadata": {},
     "output_type": "display_data"
    }
   ],
   "source": [
    "# Generate a pie plot showing the distribution of female versus male mice using pyplot\n",
    "sex_label = female_v_male.index.values\n",
    "count_value = female_v_male.values\n",
    "fig, ax = plt.subplots()\n",
    "ax.pie(count_value, labels = sex_label, autopct = '%1.0f%%')\n",
    "ax.set_ylabel('Sex')"
   ]
  },
  {
   "cell_type": "markdown",
   "metadata": {},
   "source": [
    "## Quartiles, Outliers and Boxplots"
   ]
  },
  {
   "cell_type": "code",
   "execution_count": 39,
   "metadata": {},
   "outputs": [
    {
     "data": {
      "text/html": [
       "<div>\n",
       "<style scoped>\n",
       "    .dataframe tbody tr th:only-of-type {\n",
       "        vertical-align: middle;\n",
       "    }\n",
       "\n",
       "    .dataframe tbody tr th {\n",
       "        vertical-align: top;\n",
       "    }\n",
       "\n",
       "    .dataframe thead th {\n",
       "        text-align: right;\n",
       "    }\n",
       "</style>\n",
       "<table border=\"1\" class=\"dataframe\">\n",
       "  <thead>\n",
       "    <tr style=\"text-align: right;\">\n",
       "      <th></th>\n",
       "      <th>Mouse ID</th>\n",
       "      <th>Timepoint</th>\n",
       "      <th>Tumor Volume (mm3)</th>\n",
       "      <th>Metastatic Sites</th>\n",
       "      <th>Drug Regimen</th>\n",
       "      <th>Sex</th>\n",
       "      <th>Age_months</th>\n",
       "      <th>Weight (g)</th>\n",
       "      <th>Max Timepoint</th>\n",
       "    </tr>\n",
       "  </thead>\n",
       "  <tbody>\n",
       "    <tr>\n",
       "      <th>0</th>\n",
       "      <td>b128</td>\n",
       "      <td>0</td>\n",
       "      <td>45.000000</td>\n",
       "      <td>0</td>\n",
       "      <td>Capomulin</td>\n",
       "      <td>Female</td>\n",
       "      <td>9</td>\n",
       "      <td>22</td>\n",
       "      <td>45</td>\n",
       "    </tr>\n",
       "    <tr>\n",
       "      <th>1</th>\n",
       "      <td>b128</td>\n",
       "      <td>5</td>\n",
       "      <td>45.651331</td>\n",
       "      <td>0</td>\n",
       "      <td>Capomulin</td>\n",
       "      <td>Female</td>\n",
       "      <td>9</td>\n",
       "      <td>22</td>\n",
       "      <td>45</td>\n",
       "    </tr>\n",
       "    <tr>\n",
       "      <th>2</th>\n",
       "      <td>b128</td>\n",
       "      <td>10</td>\n",
       "      <td>43.270852</td>\n",
       "      <td>0</td>\n",
       "      <td>Capomulin</td>\n",
       "      <td>Female</td>\n",
       "      <td>9</td>\n",
       "      <td>22</td>\n",
       "      <td>45</td>\n",
       "    </tr>\n",
       "    <tr>\n",
       "      <th>3</th>\n",
       "      <td>b128</td>\n",
       "      <td>15</td>\n",
       "      <td>43.784893</td>\n",
       "      <td>0</td>\n",
       "      <td>Capomulin</td>\n",
       "      <td>Female</td>\n",
       "      <td>9</td>\n",
       "      <td>22</td>\n",
       "      <td>45</td>\n",
       "    </tr>\n",
       "    <tr>\n",
       "      <th>4</th>\n",
       "      <td>b128</td>\n",
       "      <td>20</td>\n",
       "      <td>42.731552</td>\n",
       "      <td>0</td>\n",
       "      <td>Capomulin</td>\n",
       "      <td>Female</td>\n",
       "      <td>9</td>\n",
       "      <td>22</td>\n",
       "      <td>45</td>\n",
       "    </tr>\n",
       "    <tr>\n",
       "      <th>...</th>\n",
       "      <td>...</td>\n",
       "      <td>...</td>\n",
       "      <td>...</td>\n",
       "      <td>...</td>\n",
       "      <td>...</td>\n",
       "      <td>...</td>\n",
       "      <td>...</td>\n",
       "      <td>...</td>\n",
       "      <td>...</td>\n",
       "    </tr>\n",
       "    <tr>\n",
       "      <th>1883</th>\n",
       "      <td>m601</td>\n",
       "      <td>25</td>\n",
       "      <td>33.118756</td>\n",
       "      <td>1</td>\n",
       "      <td>Capomulin</td>\n",
       "      <td>Male</td>\n",
       "      <td>22</td>\n",
       "      <td>17</td>\n",
       "      <td>45</td>\n",
       "    </tr>\n",
       "    <tr>\n",
       "      <th>1884</th>\n",
       "      <td>m601</td>\n",
       "      <td>30</td>\n",
       "      <td>31.758275</td>\n",
       "      <td>1</td>\n",
       "      <td>Capomulin</td>\n",
       "      <td>Male</td>\n",
       "      <td>22</td>\n",
       "      <td>17</td>\n",
       "      <td>45</td>\n",
       "    </tr>\n",
       "    <tr>\n",
       "      <th>1885</th>\n",
       "      <td>m601</td>\n",
       "      <td>35</td>\n",
       "      <td>30.834357</td>\n",
       "      <td>1</td>\n",
       "      <td>Capomulin</td>\n",
       "      <td>Male</td>\n",
       "      <td>22</td>\n",
       "      <td>17</td>\n",
       "      <td>45</td>\n",
       "    </tr>\n",
       "    <tr>\n",
       "      <th>1886</th>\n",
       "      <td>m601</td>\n",
       "      <td>40</td>\n",
       "      <td>31.378045</td>\n",
       "      <td>1</td>\n",
       "      <td>Capomulin</td>\n",
       "      <td>Male</td>\n",
       "      <td>22</td>\n",
       "      <td>17</td>\n",
       "      <td>45</td>\n",
       "    </tr>\n",
       "    <tr>\n",
       "      <th>1887</th>\n",
       "      <td>m601</td>\n",
       "      <td>45</td>\n",
       "      <td>28.430964</td>\n",
       "      <td>1</td>\n",
       "      <td>Capomulin</td>\n",
       "      <td>Male</td>\n",
       "      <td>22</td>\n",
       "      <td>17</td>\n",
       "      <td>45</td>\n",
       "    </tr>\n",
       "  </tbody>\n",
       "</table>\n",
       "<p>1888 rows × 9 columns</p>\n",
       "</div>"
      ],
      "text/plain": [
       "     Mouse ID  Timepoint  Tumor Volume (mm3)  Metastatic Sites Drug Regimen  \\\n",
       "0        b128          0           45.000000                 0    Capomulin   \n",
       "1        b128          5           45.651331                 0    Capomulin   \n",
       "2        b128         10           43.270852                 0    Capomulin   \n",
       "3        b128         15           43.784893                 0    Capomulin   \n",
       "4        b128         20           42.731552                 0    Capomulin   \n",
       "...       ...        ...                 ...               ...          ...   \n",
       "1883     m601         25           33.118756                 1    Capomulin   \n",
       "1884     m601         30           31.758275                 1    Capomulin   \n",
       "1885     m601         35           30.834357                 1    Capomulin   \n",
       "1886     m601         40           31.378045                 1    Capomulin   \n",
       "1887     m601         45           28.430964                 1    Capomulin   \n",
       "\n",
       "         Sex  Age_months  Weight (g)  Max Timepoint  \n",
       "0     Female           9          22             45  \n",
       "1     Female           9          22             45  \n",
       "2     Female           9          22             45  \n",
       "3     Female           9          22             45  \n",
       "4     Female           9          22             45  \n",
       "...      ...         ...         ...            ...  \n",
       "1883    Male          22          17             45  \n",
       "1884    Male          22          17             45  \n",
       "1885    Male          22          17             45  \n",
       "1886    Male          22          17             45  \n",
       "1887    Male          22          17             45  \n",
       "\n",
       "[1888 rows x 9 columns]"
      ]
     },
     "execution_count": 39,
     "metadata": {},
     "output_type": "execute_result"
    }
   ],
   "source": [
    "# Calculate the final tumor volume of each mouse across four of the treatment regimens:  \n",
    "# Capomulin, Ramicane, Infubinol, and Ceftamin\n",
    "\n",
    "\n",
    "# Start by getting the last (greatest) timepoint for each mouse\n",
    "max_timepoint_df = clean_total.groupby(['Mouse ID'])['Timepoint'].max().reset_index()\n",
    "max_timepoint_df = max_timepoint_df.rename(columns = {'Timepoint': 'Max Timepoint'})\n",
    "\n",
    "# Merge this group df with the original DataFrame to get the tumor volume at the last timepoint\n",
    "merged_data = pd.merge(clean_total, max_timepoint_df, on = 'Mouse ID')\n",
    "merged_data\n",
    "\n",
    "\n",
    "\n",
    "\n",
    "# cap_df = total_data.loc[total_data[\"Drug Regimen\"] == \"Capomulin\",:]\n",
    "# ram_df = total_data.loc[total_data[\"Drug Regimen\"] == \"Ramicane\", :]\n",
    "# inf_df = total_data.loc[total_data[\"Drug Regimen\"] == \"Infubinol\", :]\n",
    "# ceft_df = total_data.loc[total_data[\"Drug Regimen\"] == \"Ceftamin\", :]\n",
    "# cap_df.head(10)\n"
   ]
  },
  {
   "cell_type": "code",
   "execution_count": null,
   "metadata": {},
   "outputs": [],
   "source": [
    "ramicane = reduced_last_timepoint.loc[reduced_last_timepoint['Drug Regimen'] == 'Ramicane']\n",
    "ramicane\n",
    "\n",
    "infubinol = reduced_last_timepoint.loc[reduced_last_timepoint['Drug Regimen'] == 'Infubinol']\n",
    "infubinol\n",
    "\n",
    "ceftamin = reduced_last_timepoint.loc[reduced_last_timepoint['Drug Regimen'] == 'Ceftamin']\n",
    "ceftamin\n"
   ]
  },
  {
   "cell_type": "code",
   "execution_count": 42,
   "metadata": {},
   "outputs": [
    {
     "name": "stdout",
     "output_type": "stream",
     "text": [
      "Capomulin's Potential Outliers: Series([], Name: Tumor Volume (mm3), dtype: float64)\n",
      "Ramicane's Potential Outliers: Series([], Name: Tumor Volume (mm3), dtype: float64)\n",
      "Infubinol's Potential Outliers: 214    36.321346\n",
      "Name: Tumor Volume (mm3), dtype: float64\n",
      "Ceftamin's Potential Outliers: Series([], Name: Tumor Volume (mm3), dtype: float64)\n"
     ]
    }
   ],
   "source": [
    "# Put treatments into a list for for loop (and later for plot labels)\n",
    "treatment = ['Capomulin', 'Ramicane', 'Infubinol', 'Ceftamin']\n",
    "\n",
    "# Create empty list to fill with tumor vol data (for plotting)\n",
    "tumor_volume_data = []\n",
    "\n",
    "# Calculate the IQR and quantitatively determine if there are any potential outliers. \n",
    "\n",
    "for drug in treatment:\n",
    "    drug_data = merged_data.loc[merged_data['Drug Regimen'] == drug]\n",
    "    final_tumor_volume = drug_data.loc[drug_data['Timepoint'] == drug_data['Max Timepoint']]['Tumor Volume (mm3)']\n",
    "    tumor_volume_data.append(final_tumor_volume)\n",
    "\n",
    "# Determine outliers using upper and lower bounds\n",
    "for i, drug in enumerate(treatment):\n",
    "    quartiles = tumor_volume_data[i].quantile([.25,.5,.75])\n",
    "    lowerq = quartiles[0.25]\n",
    "    upperq = quartiles[0.75]\n",
    "    iqr = upperq-lowerq\n",
    "    \n",
    "    lower_bound = lowerq - (1.5*iqr)\n",
    "    upper_bound = upperq + (1.5*iqr)\n",
    "\n",
    "    outliers = tumor_volume_data[i][(tumor_volume_data[i] < lower_bound) | (tumor_volume_data[i] > upper_bound)] \n",
    "    print(f\"{drug}'s Potential Outliers: {outliers}\")"
   ]
  },
  {
   "cell_type": "code",
   "execution_count": 48,
   "metadata": {},
   "outputs": [
    {
     "data": {
      "text/plain": [
       "<function matplotlib.pyplot.show(close=None, block=None)>"
      ]
     },
     "execution_count": 48,
     "metadata": {},
     "output_type": "execute_result"
    },
    {
     "data": {
      "image/png": "[encoded data removed]",
      "text/plain": [
       "<Figure size 640x480 with 1 Axes>"
      ]
     },
     "metadata": {},
     "output_type": "display_data"
    }
   ],
   "source": [
    "# Generate a box plot that shows the distrubution of the tumor volume for each treatment group.\n",
    "treatment = ['Capomulin', 'Ramicane', 'Infubinol', 'Ceftamin']\n",
    "final_volumes = []\n",
    "\n",
    "for drug in treatment:\n",
    "    drug_data = merged_data.loc[merged_data['Drug Regimen'] == drug, 'Tumor Volume (mm3)']\n",
    "    final_volumes.append(drug_data)\n",
    "\n",
    "fig, ax = plt.subplots()\n",
    "ax.boxplot(final_volumes, labels = treatment, showfliers=True, flierprops=dict(marker='o', markerfacecolor='red', markersize=8))\n",
    "ax.set_xlabel('Drug Regimen')\n",
    "ax.set_ylabel('Final Tumor Volume (mm3)')\n",
    "plt.show"
   ]
  },
  {
   "cell_type": "markdown",
   "metadata": {},
   "source": [
    "## Line and Scatter Plots"
   ]
  },
  {
   "cell_type": "code",
   "execution_count": 50,
   "metadata": {},
   "outputs": [
    {
     "data": {
      "text/plain": [
       "Text(0.5, 1.0, 'Capomulin Treatment of Mouse b128')"
      ]
     },
     "execution_count": 50,
     "metadata": {},
     "output_type": "execute_result"
    },
    {
     "data": {
      "image/png": "[encoded data removed]",
      "text/plain": [
       "<Figure size 640x480 with 1 Axes>"
      ]
     },
     "metadata": {},
     "output_type": "display_data"
    }
   ],
   "source": [
    "# Generate a line plot of tumor volume vs. time point for a single mouse treated with Capomulin\n",
    "capomulin_data = clean_total[clean_total['Drug Regimen']== 'Capomulin']\n",
    "\n",
    "capomulin_mice = capomulin_data['Mouse ID'].unique()\n",
    "\n",
    "lil_mouse = capomulin_mice[0]\n",
    "\n",
    "lil_mouse_data = capomulin_data[capomulin_data['Mouse ID']== lil_mouse]\n",
    "\n",
    "fig, ax = plt.subplots()\n",
    "ax.plot(lil_mouse_data['Timepoint'], lil_mouse_data['Tumor Volume (mm3)'])\n",
    "ax.set_xlabel('Timepoint (days)')\n",
    "ax.set_ylabel('Tumor Volume (mm3)')\n",
    "ax.set_title(f'Capomulin Treatment of Mouse {lil_mouse}')"
   ]
  },
  {
   "cell_type": "code",
   "execution_count": 52,
   "metadata": {},
   "outputs": [
    {
     "data": {
      "text/plain": [
       "Text(0, 0.5, 'Average Tumor Volume (mm3)')"
      ]
     },
     "execution_count": 52,
     "metadata": {},
     "output_type": "execute_result"
    },
    {
     "data": {
      "image/png": "[encoded data removed]",
      "text/plain": [
       "<Figure size 640x480 with 1 Axes>"
      ]
     },
     "metadata": {},
     "output_type": "display_data"
    }
   ],
   "source": [
    "# Generate a scatter plot of mouse weight vs. the average observed tumor volume for the entire Capomulin regimen\n",
    "capomulin_data = clean_total[clean_total['Drug Regimen']== 'Capomulin']\n",
    "\n",
    "average_tumor_volume = capomulin_data.groupby('Mouse ID')['Tumor Volume (mm3)'].mean()\n",
    "\n",
    "capomulin_data_with_g = pd.merge(average_tumor_volume, mouse_metadata, on = 'Mouse ID')\n",
    "\n",
    "fig, ax = plt.subplots()\n",
    "ax.scatter(capomulin_data_with_g['Weight (g)'], capomulin_data_with_g['Tumor Volume (mm3)'])\n",
    "ax.set_xlabel('Weight (g)')\n",
    "ax.set_ylabel('Average Tumor Volume (mm3)')"
   ]
  },
  {
   "cell_type": "markdown",
   "metadata": {},
   "source": [
    "## Correlation and Regression"
   ]
  },
  {
   "cell_type": "code",
   "execution_count": 74,
   "metadata": {},
   "outputs": [
    {
     "name": "stdout",
     "output_type": "stream",
     "text": [
      "Correlation Coefficient: 0.8419363424694721\n",
      "Linear regression equation: y = 0.9544396890241049x + 21.552160532685008\n"
     ]
    },
    {
     "data": {
      "text/plain": [
       "[<matplotlib.lines.Line2D at 0x165979750>]"
      ]
     },
     "execution_count": 74,
     "metadata": {},
     "output_type": "execute_result"
    },
    {
     "data": {
      "image/png": "[encoded data removed]",
      "text/plain": [
       "<Figure size 640x480 with 1 Axes>"
      ]
     },
     "metadata": {},
     "output_type": "display_data"
    }
   ],
   "source": [
    "# Calculate the correlation coefficient and a linear regression model \n",
    "# for mouse weight and average observed tumor volume for the entire Capomulin regimen\n",
    "from scipy.stats import linregress\n",
    "\n",
    "capomulin_data = clean_total[clean_total['Drug Regimen']== 'Capomulin']\n",
    "\n",
    "capomulin_average = capomulin_data.groupby('Mouse ID')[['Weight (g)', 'Tumor Volume (mm3)']].mean()\n",
    "capomulin_average_df = pd.DataFrame(capomulin_average)\n",
    "\n",
    "capomulin_average_df.reset_index\n",
    "\n",
    "fig, ax = plt.subplots()\n",
    "ax.scatter(capomulin_average_df['Weight (g)'], capomulin_average_df['Tumor Volume (mm3)'])\n",
    "ax.set_xlabel('Weight (g)')\n",
    "ax.set_ylabel('Tumor Volume (mm3)')\n",
    "\n",
    "\n",
    "slope, intercept, rvalue, pvalue, stderr = linregress(capomulin_average['Weight (g)'], capomulin_average['Tumor Volume (mm3)'])\n",
    "print(f'Correlation Coefficient: {rvalue}')\n",
    "print(f'Linear regression equation: y = {slope}x + {intercept}')\n",
    "\n",
    "x = capomulin_average['Weight (g)']\n",
    "ax.plot(x, slope*x + intercept, color = 'red')\n",
    "\n"
   ]
  },
  {
   "cell_type": "code",
   "execution_count": null,
   "metadata": {},
   "outputs": [],
   "source": []
  }
 ],
 "metadata": {
  "anaconda-cloud": {},
  "kernelspec": {
   "display_name": "PythonData",
   "language": "python",
   "name": "python3"
  },
  "language_info": {
   "codemirror_mode": {
    "name": "ipython",
    "version": 3
   },
   "file_extension": ".py",
   "mimetype": "text/x-python",
   "name": "python",
   "nbconvert_exporter": "python",
   "pygments_lexer": "ipython3",
   "version": "3.11.7"
  }
 },
 "nbformat": 4,
 "nbformat_minor": 4
}
